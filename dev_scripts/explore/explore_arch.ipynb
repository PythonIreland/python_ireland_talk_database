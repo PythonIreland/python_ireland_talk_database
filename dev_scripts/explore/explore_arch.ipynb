{
 "cells": [
  {
   "cell_type": "code",
   "execution_count": 2,
   "id": "6b66582f",
   "metadata": {},
   "outputs": [
    {
     "name": "stdout",
     "output_type": "stream",
     "text": [
      "🎯 Ring 1: Enterprise Business Rules\n",
      "==================================================\n",
      "Exploring pure business logic and domain entities...\n",
      "Python path includes: /home/jcurry/repos/python_ireland_talk_database/dev_scripts/explore/../../backend\n"
     ]
    }
   ],
   "source": [
    "# Ring 1 Architecture Exploration: Domain Entities & Services\n",
    "# Pure business logic with no external dependencies\n",
    "\n",
    "import sys\n",
    "import os\n",
    "\n",
    "# Add the backend directory to Python path so we can import our modules\n",
    "sys.path.append(os.path.join(os.getcwd(), '..', '..', 'backend'))\n",
    "\n",
    "print(\"🎯 Ring 1: Enterprise Business Rules\")\n",
    "print(\"=\" * 50)\n",
    "print(\"Exploring pure business logic and domain entities...\")\n",
    "print(f\"Python path includes: {sys.path[-1]}\")"
   ]
  },
  {
   "cell_type": "code",
   "execution_count": 3,
   "id": "7752fe96",
   "metadata": {},
   "outputs": [
    {
     "name": "stdout",
     "output_type": "stream",
     "text": [
      "✅ Successfully imported Ring 1 components:\n",
      "  - Talk (domain entity)\n",
      "  - Taxonomy, TaxonomyValue (domain entities)\n",
      "  - TalkDomainService (pure business logic)\n",
      "\n",
      "📋 Talk entity capabilities:\n",
      "  - add_speaker\n",
      "  - created_at\n",
      "  - from_dict\n",
      "  - get_duration_minutes\n",
      "  - has_keyword\n",
      "  - is_by_speaker\n",
      "  - is_valid\n",
      "  - source_id\n",
      "  - source_type\n",
      "  - to_dict\n",
      "  - update_content\n",
      "  - updated_at\n"
     ]
    }
   ],
   "source": [
    "# Import Ring 1 components - Domain Entities\n",
    "from domain.entities.talk import Talk\n",
    "from domain.entities.taxonomy import Taxonomy, TaxonomyValue\n",
    "from domain.services.talk_domain_service import TalkDomainService\n",
    "\n",
    "print(\"✅ Successfully imported Ring 1 components:\")\n",
    "print(\"  - Talk (domain entity)\")\n",
    "print(\"  - Taxonomy, TaxonomyValue (domain entities)\")\n",
    "print(\"  - TalkDomainService (pure business logic)\")\n",
    "print()\n",
    "\n",
    "# Let's examine what these domain entities can do\n",
    "print(\"📋 Talk entity capabilities:\")\n",
    "talk_methods = [method for method in dir(Talk) if not method.startswith('_')]\n",
    "for method in sorted(talk_methods):\n",
    "    print(f\"  - {method}\")"
   ]
  },
  {
   "cell_type": "code",
   "execution_count": 12,
   "id": "ffe44027",
   "metadata": {},
   "outputs": [
    {
     "name": "stdout",
     "output_type": "stream",
     "text": [
      "3. Check docstring:\n",
      "   Rich domain entity with business behavior\n",
      "\n"
     ]
    }
   ],
   "source": [
    "print(\"3. Check docstring:\")\n",
    "print(f\"   {Talk.__doc__}\")\n",
    "print()"
   ]
  },
  {
   "cell_type": "code",
   "execution_count": 9,
   "id": "aee1c7c9",
   "metadata": {},
   "outputs": [
    {
     "name": "stdout",
     "output_type": "stream",
     "text": [
      "🔍 Creating a sample Talk entity...\n",
      "✅ Created talk: Building Clean Architecture with Python\n",
      "👥 Speakers: Alice Developer, Bob Architect\n",
      "🏷️  Type: conference_talk\n",
      "\n"
     ]
    }
   ],
   "source": [
    "# Create a sample Talk entity to explore its business behavior\n",
    "print(\"🔍 Creating a sample Talk entity...\")\n",
    "\n",
    "# Create a talk with some sample data\n",
    "sample_talk_data = {\n",
    "    \"id\": \"sample-123\",\n",
    "    \"title\": \"Building Clean Architecture with Python\",\n",
    "    \"description\": \"Learn how to implement Clean Architecture principles in Python applications, including dependency inversion, separation of concerns, and testability.\",\n",
    "    \"speaker_names\": [\"Alice Developer\", \"Bob Architect\"],\n",
    "    \"talk_type\": \"conference_talk\",\n",
    "    \"source_type\": \"sessionize\",\n",
    "    \"source_id\": \"sample-123\"\n",
    "}\n",
    "\n",
    "# Create the Talk entity\n",
    "talk = Talk(**sample_talk_data)\n",
    "\n",
    "print(f\"✅ Created talk: {talk.title}\")\n",
    "print(f\"👥 Speakers: {', '.join(talk.speaker_names)}\")\n",
    "print(f\"🏷️  Type: {talk.talk_type}\")\n",
    "print()"
   ]
  },
  {
   "cell_type": "code",
   "execution_count": null,
   "id": "0ab09a5f",
   "metadata": {},
   "outputs": [],
   "source": [
    "# Explore the business methods of the Talk entity\n",
    "print(\"🧪 Testing Talk entity business methods...\")\n",
    "print()\n",
    "\n",
    "# Test validation\n",
    "print(\"1. Business Validation:\")\n",
    "is_valid = talk.is_valid()\n",
    "print(f\"   ✅ Is talk valid? {is_valid}\")\n",
    "print()\n",
    "\n",
    "# Test keyword search\n",
    "print(\"2. Keyword Search (business rule):\")\n",
    "has_python = talk.has_keyword(\"Python\")\n",
    "has_architecture = talk.has_keyword(\"Architecture\")\n",
    "has_irrelevant = talk.has_keyword(\"Cooking\")\n",
    "print(f\"   🔍 Contains 'Python': {has_python}\")\n",
    "print(f\"   🔍 Contains 'Architecture': {has_architecture}\")\n",
    "print(f\"   🔍 Contains 'Cooking': {has_irrelevant}\")\n",
    "print()\n",
    "\n",
    "# Test speaker check\n",
    "print(\"3. Speaker Business Rules:\")\n",
    "is_by_alice = talk.is_by_speaker(\"Alice Developer\")\n",
    "is_by_charlie = talk.is_by_speaker(\"Charlie Unknown\")\n",
    "print(f\"   👤 Is by Alice Developer: {is_by_alice}\")\n",
    "print(f\"   👤 Is by Charlie Unknown: {is_by_charlie}\")\n",
    "print()"
   ]
  },
  {
   "cell_type": "code",
   "execution_count": null,
   "id": "dce274ad",
   "metadata": {},
   "outputs": [],
   "source": [
    "# Explore TalkDomainService - Pure Business Logic (Ring 1)\n",
    "print(\"⚙️ TalkDomainService - Pure Business Logic\")\n",
    "print(\"=\" * 50)\n",
    "\n",
    "# Test auto-tagging business rules\n",
    "print(\"1. Auto-tagging Business Rules:\")\n",
    "title = \"Building RESTful APIs with FastAPI and PostgreSQL\"\n",
    "description = \"Learn how to create scalable web APIs using FastAPI, implement database operations with SQLAlchemy, and write comprehensive tests for your application.\"\n",
    "\n",
    "auto_tags = TalkDomainService.extract_auto_tags(title, description)\n",
    "print(f\"   📝 Title: {title}\")\n",
    "print(f\"   📄 Description: {description[:100]}...\")\n",
    "print(f\"   🏷️  Auto-generated tags: {auto_tags}\")\n",
    "print()\n",
    "\n",
    "# Test talk type determination\n",
    "print(\"2. Talk Type Business Rules:\")\n",
    "session_data_examples = [\n",
    "    {\"session_type\": \"Conference Session\", \"duration\": 45},\n",
    "    {\"session_type\": \"Lightning Talk\", \"duration\": 5},\n",
    "    {\"session_type\": \"Workshop\", \"duration\": 180},\n",
    "]\n",
    "\n",
    "for session_data in session_data_examples:\n",
    "    talk_type = TalkDomainService.determine_talk_type(\"sessionize\", session_data)\n",
    "    print(f\"   📊 {session_data} → Talk Type: {talk_type}\")\n",
    "print()"
   ]
  },
  {
   "cell_type": "code",
   "execution_count": null,
   "id": "55e8a0b5",
   "metadata": {},
   "outputs": [],
   "source": [
    "# Test more TalkDomainService business rules\n",
    "print(\"3. Data Validation Business Rules:\")\n",
    "\n",
    "# Test with valid talk data\n",
    "valid_talk_data = {\n",
    "    \"title\": \"Introduction to Machine Learning\",\n",
    "    \"description\": \"A comprehensive overview of ML concepts\",\n",
    "    \"speakers\": [\"Dr. Sarah Chen\"],\n",
    "    \"event_name\": \"Python Ireland Meetup\"\n",
    "}\n",
    "\n",
    "validation_errors = TalkDomainService.validate_talk_data(valid_talk_data)\n",
    "print(f\"   ✅ Valid data errors: {validation_errors}\")\n",
    "\n",
    "# Test with invalid talk data\n",
    "invalid_talk_data = {\n",
    "    \"title\": \"\",  # Empty title\n",
    "    \"description\": \"A\",  # Too short description\n",
    "    \"speakers\": [],  # No speakers\n",
    "    \"event_name\": \"\"  # Empty event name\n",
    "}\n",
    "\n",
    "validation_errors = TalkDomainService.validate_talk_data(invalid_talk_data)\n",
    "print(f\"   ❌ Invalid data errors: {validation_errors}\")\n",
    "print()\n",
    "\n",
    "print(\"4. Speaker Name Normalization:\")\n",
    "messy_names = [\"  alice DEVELOPER  \", \"Bob-Architect\", \"charlie_coder@email.com\"]\n",
    "normalized = TalkDomainService.normalize_speaker_names(messy_names)\n",
    "print(f\"   📝 Original: {messy_names}\")\n",
    "print(f\"   ✨ Normalized: {normalized}\")\n",
    "print()\n",
    "\n",
    "print(\"🎯 Ring 1 Summary:\")\n",
    "print(\"  ✅ Pure business logic - no external dependencies\")\n",
    "print(\"  ✅ Rich domain entities with behavior\")\n",
    "print(\"  ✅ Domain services for complex business rules\")\n",
    "print(\"  ✅ Framework-agnostic and testable\")"
   ]
  }
 ],
 "metadata": {
  "kernelspec": {
   "display_name": "pycon-ireland-2024-9A0pNUHZ",
   "language": "python",
   "name": "python3"
  },
  "language_info": {
   "codemirror_mode": {
    "name": "ipython",
    "version": 3
   },
   "file_extension": ".py",
   "mimetype": "text/x-python",
   "name": "python",
   "nbconvert_exporter": "python",
   "pygments_lexer": "ipython3",
   "version": "3.12.7"
  }
 },
 "nbformat": 4,
 "nbformat_minor": 5
}
